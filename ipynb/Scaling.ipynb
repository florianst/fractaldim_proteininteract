{
 "cells": [
  {
   "cell_type": "markdown",
   "metadata": {},
   "source": [
    "# Topological Fractal Dimension of Protein-Protein Interaction Networks"
   ]
  },
  {
   "cell_type": "markdown",
   "metadata": {},
   "source": [
    "## TFD for Path and Lattice Graphs"
   ]
  },
  {
   "cell_type": "markdown",
   "metadata": {},
   "source": [
    "#### Load"
   ]
  },
  {
   "cell_type": "code",
   "execution_count": 4,
   "metadata": {},
   "outputs": [],
   "source": [
    "from tfdppin import graphs\n",
    "from tfdppin import TFD\n",
    "\n",
    "import matplotlib.pylab as plt\n",
    "import networkx as nx\n",
    "import numpy as np\n",
    "import time\n",
    "import seaborn as sns\n",
    "\n",
    "sns.set()"
   ]
  },
  {
   "cell_type": "markdown",
   "metadata": {},
   "source": [
    "### Study of TFD $d$ versus number of nodes $N$ (w/ and w/o PBC)"
   ]
  },
  {
   "cell_type": "code",
   "execution_count": 5,
   "metadata": {
    "scrolled": true
   },
   "outputs": [],
   "source": [
    "def d_vs_N(graph_builder, Nmin=10, Nmax=100, Nstep=5, PBC=False):\n",
    "    N = np.arange(Nmin, Nmax, Nstep, dtype=int)\n",
    "    d = np.zeros(len(N))\n",
    "    \n",
    "    tot_time = 0\n",
    "    for idx, n in enumerate(N):\n",
    "        print(\"TDF #{} of {}\".format(idx+1, len(N)), end=\" \")\n",
    "        ti = time.time()\n",
    "        \n",
    "        Gl = graph_builder(n, PBC)\n",
    "        p, lb, Nb  = TFD.tfd_fuzzy(Gl)\n",
    "        d[idx] = p[0]\n",
    "        \n",
    "        t = time.time() - ti\n",
    "        print(\"({:.2f}s)\".format(t))\n",
    "        tot_time += t\n",
    "        \n",
    "    print(\"({:.2f}s)\".format(tot_time))\n",
    "        \n",
    "    return N, d"
   ]
  },
  {
   "cell_type": "code",
   "execution_count": 6,
   "metadata": {},
   "outputs": [
    {
     "name": "stdout",
     "output_type": "stream",
     "text": [
      "---P NO PBC---\n",
      "TDF #1 of 4 (0.00s)\n",
      "TDF #2 of 4 (0.03s)\n",
      "TDF #3 of 4 (0.09s)\n",
      "TDF #4 of 4 (0.22s)\n",
      "(0.34s)\n",
      "---P PBC---\n",
      "TDF #1 of 4 (0.00s)\n",
      "TDF #2 of 4 (0.01s)\n",
      "TDF #3 of 4 (0.03s)\n",
      "TDF #4 of 4 (0.07s)\n",
      "(0.10s)\n",
      "---P NO PBC---\n",
      "TDF #1 of 3 (0.01s)\n",
      "TDF #2 of 3 (0.24s)\n",
      "TDF #3 of 3 (1.55s)\n",
      "(1.79s)\n",
      "---P PBC---\n",
      "TDF #1 of 3 (0.00s)\n",
      "TDF #2 of 3 (0.08s)\n",
      "TDF #3 of 3 (0.67s)\n",
      "(0.76s)\n"
     ]
    },
    {
     "data": {
      "image/png": "[encoded data removed]",
      "text/plain": [
       "<Figure size 432x288 with 1 Axes>"
      ]
     },
     "metadata": {},
     "output_type": "display_data"
    }
   ],
   "source": [
    "print(\"---P NO PBC---\")\n",
    "Np, dp_nopbc = d_vs_N(graphs.build_path_graph, Nmin=10, Nmax=100, Nstep=25, PBC=False)\n",
    "print(\"---P PBC---\")\n",
    "Np, dp_pbc = d_vs_N(graphs.build_path_graph,  Nmin=10, Nmax=100, Nstep=25, PBC=True)\n",
    "\n",
    "print(\"---P NO PBC---\")\n",
    "Nl, dl_nopbc = d_vs_N(graphs.build_lattice_graph, Nmin=6, Nmax=20, Nstep=6, PBC=False)\n",
    "print(\"---P PBC---\")\n",
    "Nl, dl_pbc = d_vs_N(graphs.build_lattice_graph, Nmin=6, Nmax=20, Nstep=6, PBC=True)\n",
    "\n",
    "plt.figure()\n",
    "plt.plot(Np, dp_nopbc / 1, \"--\", label=\"Path\")\n",
    "plt.plot(Np, dp_pbc / 1, \"-\", label=\"Path (PBC)\")\n",
    "plt.plot(Nl, dl_nopbc / 2, \"--\", label=\"Lattice\")\n",
    "plt.plot(Nl, dl_pbc / 2, \"-\", label=\"Lattice (PBC)\")\n",
    "plt.hlines(1, min(Np[0],Nl[0]), max(Np[-1],Nl[-1]))\n",
    "plt.legend()\n",
    "plt.title(\"Finite-Size Effects\")\n",
    "plt.xlabel(\"Linear Number of Nodes\")\n",
    "plt.ylabel(\"Normalised Fractal Dimension\")\n",
    "plt.savefig(\"fse_path.pdf\")\n",
    "plt.show()"
   ]
  },
  {
   "cell_type": "code",
   "execution_count": null,
   "metadata": {},
   "outputs": [],
   "source": []
  },
  {
   "cell_type": "code",
   "execution_count": null,
   "metadata": {},
   "outputs": [],
   "source": []
  }
 ],
 "metadata": {
  "kernelspec": {
   "display_name": "Python 3",
   "language": "python",
   "name": "python3"
  },
  "language_info": {
   "codemirror_mode": {
    "name": "ipython",
    "version": 3
   },
   "file_extension": ".py",
   "mimetype": "text/x-python",
   "name": "python",
   "nbconvert_exporter": "python",
   "pygments_lexer": "ipython3",
   "version": "3.7.0"
  }
 },
 "nbformat": 4,
 "nbformat_minor": 2
}
