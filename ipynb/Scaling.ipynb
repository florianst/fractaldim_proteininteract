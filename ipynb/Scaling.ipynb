{
 "cells": [
  {
   "cell_type": "markdown",
   "metadata": {},
   "source": [
    "# Topological Fractal Dimension of Protein-Protein Interaction Networks"
   ]
  },
  {
   "cell_type": "markdown",
   "metadata": {},
   "source": [
    "## TFD for Path and Lattice Graphs"
   ]
  },
  {
   "cell_type": "markdown",
   "metadata": {},
   "source": [
    "#### Load"
   ]
  },
  {
   "cell_type": "code",
   "execution_count": 38,
   "metadata": {},
   "outputs": [],
   "source": [
    "from tfdppin import graphs\n",
    "from tfdppin import TFD\n",
    "\n",
    "import matplotlib.pylab as plt\n",
    "import networkx as nx\n",
    "import numpy as np"
   ]
  },
  {
   "cell_type": "markdown",
   "metadata": {},
   "source": [
    "### Study of TFD $d$ versus number of nodes $N$ (w/ and w/o PBC)"
   ]
  },
  {
   "cell_type": "code",
   "execution_count": 63,
   "metadata": {
    "scrolled": true
   },
   "outputs": [],
   "source": [
    "def d_vs_N(graph_builder, Nmin=10, Nmax=100, Nstep=5, PBC=False):\n",
    "    N = np.arange(10, 100, 5, dtype=int)\n",
    "    d = np.zeros(len(N))\n",
    "    \n",
    "    for idx, n in enumerate(N):\n",
    "        Gl = graph_builder(n, PBC)\n",
    "        p, lb, Nb  = TFD.tfd_fuzzy(Gl)\n",
    "        d[idx] = p[0]\n",
    "        \n",
    "    return N, d"
   ]
  },
  {
   "cell_type": "markdown",
   "metadata": {},
   "source": [
    "#### Path Graph"
   ]
  },
  {
   "cell_type": "code",
   "execution_count": 66,
   "metadata": {},
   "outputs": [
    {
     "data": {
      "image/png": "[encoded data removed]",
      "text/plain": [
       "<Figure size 432x288 with 1 Axes>"
      ]
     },
     "metadata": {
      "needs_background": "light"
     },
     "output_type": "display_data"
    }
   ],
   "source": [
    "N, d_nopbc = d_vs_N(graphs.build_path_graph, PBC=False)\n",
    "N, d_pbc = d_vs_N(graphs.build_path_graph, PBC=True)\n",
    "\n",
    "plt.figure()\n",
    "plt.plot(N, d_nopbc / 1, label=\"NO PBC\")\n",
    "plt.plot(N, d_pbc / 1, label=\"PBC\")\n",
    "plt.hlines(1, N[0], N[-1])\n",
    "plt.legend()\n",
    "plt.title(\"Finite-Size Effects for Path Graphs\")\n",
    "plt.xlabel(\"N\")\n",
    "plt.ylabel(\"d\")\n",
    "plt.show()"
   ]
  },
  {
   "cell_type": "markdown",
   "metadata": {},
   "source": [
    "#### Lattice Graph"
   ]
  },
  {
   "cell_type": "code",
   "execution_count": null,
   "metadata": {},
   "outputs": [],
   "source": [
    "N, d_nopbc = d_vs_N(graphs.build_lattice_graph, Nmin=5, Nmax=15, PBC=False)\n",
    "N, d_pbc = d_vs_N(graphs.build_latt_graph, Nmin=5, Nmax=15, PBC=True)\n",
    "\n",
    "plt.figure()\n",
    "plt.plot(N, d_nopbc / 1, label=\"NO PBC\")\n",
    "plt.plot(N, d_pbc / 1, label=\"PBC\")\n",
    "plt.legend()\n",
    "plt.title(\"Finite-Size Effects for Path Graphs\")\n",
    "plt.xlabel(\"N\")\n",
    "plt.ylabel(\"d\")\n",
    "plt.show()"
   ]
  }
 ],
 "metadata": {
  "kernelspec": {
   "display_name": "Python 3",
   "language": "python",
   "name": "python3"
  },
  "language_info": {
   "codemirror_mode": {
    "name": "ipython",
    "version": 3
   },
   "file_extension": ".py",
   "mimetype": "text/x-python",
   "name": "python",
   "nbconvert_exporter": "python",
   "pygments_lexer": "ipython3",
   "version": "3.6.6"
  }
 },
 "nbformat": 4,
 "nbformat_minor": 2
}
