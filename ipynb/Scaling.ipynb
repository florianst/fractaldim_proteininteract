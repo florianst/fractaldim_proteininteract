{
 "cells": [
  {
   "cell_type": "markdown",
   "metadata": {},
   "source": [
    "# Topological Fractal Dimension of Protein-Protein Interaction Networks"
   ]
  },
  {
   "cell_type": "markdown",
   "metadata": {},
   "source": [
    "## TFD for Path and Lattice Graphs"
   ]
  },
  {
   "cell_type": "markdown",
   "metadata": {},
   "source": [
    "#### Load"
   ]
  },
  {
   "cell_type": "code",
   "execution_count": 8,
   "metadata": {},
   "outputs": [],
   "source": [
    "from tfdppin import graphs\n",
    "from tfdppin import TFD\n",
    "\n",
    "import matplotlib.pylab as plt\n",
    "import networkx as nx\n",
    "import numpy as np\n",
    "import time\n",
    "import seaborn"
   ]
  },
  {
   "cell_type": "markdown",
   "metadata": {},
   "source": [
    "### Study of TFD $d$ versus number of nodes $N$ (w/ and w/o PBC)"
   ]
  },
  {
   "cell_type": "code",
   "execution_count": 18,
   "metadata": {
    "scrolled": true
   },
   "outputs": [],
   "source": [
    "def d_vs_N(graph_builder, Nmin=10, Nmax=100, Nstep=5, PBC=False):\n",
    "    N = np.arange(Nmin, Nmax, Nstep, dtype=int)\n",
    "    d = np.zeros(len(N))\n",
    "    \n",
    "    tot_time = 0\n",
    "    for idx, n in enumerate(N):\n",
    "        print(\"TDF #{} of {}\".format(idx+1, len(N)), end=\" \")\n",
    "        ti = time.time()\n",
    "        \n",
    "        Gl = graph_builder(n, PBC)\n",
    "        p, lb, Nb  = TFD.tfd_fuzzy(Gl)\n",
    "        d[idx] = p[0]\n",
    "        \n",
    "        t = time.time() - ti\n",
    "        print(\"({:.2f}s)\".format(t))\n",
    "        tot_time += t\n",
    "        \n",
    "    print(\"({:.2f}s)\".format(tot_time))\n",
    "        \n",
    "    return N, d"
   ]
  },
  {
   "cell_type": "markdown",
   "metadata": {},
   "source": [
    "#### Path Graph"
   ]
  },
  {
   "cell_type": "code",
   "execution_count": 22,
   "metadata": {},
   "outputs": [
    {
     "name": "stdout",
     "output_type": "stream",
     "text": [
      "---NO PBC---\n",
      "TDF #1 of 98 (0.00s)\n",
      "TDF #2 of 98 (0.00s)\n",
      "TDF #3 of 98 (0.01s)\n",
      "TDF #4 of 98 (0.02s)\n",
      "TDF #5 of 98 (0.05s)\n",
      "TDF #6 of 98 (0.06s)\n",
      "TDF #7 of 98 (0.08s)\n",
      "TDF #8 of 98 (0.11s)\n",
      "TDF #9 of 98 (0.16s)\n",
      "TDF #10 of 98 (0.24s)\n",
      "TDF #11 of 98 (0.23s)\n",
      "TDF #12 of 98 (0.38s)\n",
      "TDF #13 of 98 (0.51s)\n",
      "TDF #14 of 98 (0.55s)\n",
      "TDF #15 of 98 (0.63s)\n",
      "TDF #16 of 98 (0.82s)\n",
      "TDF #17 of 98 (1.09s)\n",
      "TDF #18 of 98 (1.04s)\n",
      "TDF #19 of 98 (1.26s)\n",
      "TDF #20 of 98 (1.41s)\n",
      "TDF #21 of 98 (1.80s)\n",
      "TDF #22 of 98 (2.26s)\n",
      "TDF #23 of 98 (2.24s)\n",
      "TDF #24 of 98 (2.32s)\n",
      "TDF #25 of 98 (2.60s)\n",
      "TDF #26 of 98 (3.06s)\n",
      "TDF #27 of 98 (3.18s)\n",
      "TDF #28 of 98 (3.63s)\n",
      "TDF #29 of 98 (4.04s)\n",
      "TDF #30 of 98 (4.33s)\n",
      "TDF #31 of 98 (4.72s)\n",
      "TDF #32 of 98 (7.67s)\n",
      "TDF #33 of 98 (6.66s)\n",
      "TDF #34 of 98 (6.94s)\n",
      "TDF #35 of 98 (7.60s)\n",
      "TDF #36 of 98 (8.70s)\n",
      "TDF #37 of 98 (8.80s)\n",
      "TDF #38 of 98 (8.78s)\n",
      "TDF #39 of 98 (9.23s)\n",
      "TDF #40 of 98 (10.18s)\n",
      "TDF #41 of 98 (10.95s)\n",
      "TDF #42 of 98 (11.14s)\n",
      "TDF #43 of 98 (12.97s)\n",
      "TDF #44 of 98 (12.92s)\n",
      "TDF #45 of 98 (14.70s)\n",
      "TDF #46 of 98 (16.41s)\n",
      "TDF #47 of 98 (19.38s)\n",
      "TDF #48 of 98 (18.85s)\n",
      "TDF #49 of 98 (17.58s)\n",
      "TDF #50 of 98 (18.84s)\n",
      "TDF #51 of 98 (20.25s)\n",
      "TDF #52 of 98 (21.10s)\n",
      "TDF #53 of 98 (22.75s)\n",
      "TDF #54 of 98 (24.01s)\n",
      "TDF #55 of 98 (25.69s)\n",
      "TDF #56 of 98 (26.38s)\n",
      "TDF #57 of 98 (27.88s)\n",
      "TDF #58 of 98 (29.73s)\n",
      "TDF #59 of 98 (30.81s)\n",
      "TDF #60 of 98 (32.82s)\n",
      "TDF #61 of 98 (34.39s)\n",
      "TDF #62 of 98 (36.09s)\n",
      "TDF #63 of 98 (37.74s)\n",
      "TDF #64 of 98 (39.77s)\n",
      "TDF #65 of 98 (48.17s)\n",
      "TDF #66 of 98 (48.61s)\n",
      "TDF #67 of 98 (54.16s)\n",
      "TDF #68 of 98 (61.23s)\n",
      "TDF #69 of 98 (72.13s)\n",
      "TDF #70 of 98 (65.52s)\n",
      "TDF #71 of 98 (68.28s)\n",
      "TDF #72 of 98 (60.52s)\n",
      "TDF #73 of 98 (59.29s)\n",
      "TDF #74 of 98 (60.53s)\n",
      "TDF #75 of 98 (63.71s)\n",
      "TDF #76 of 98 (65.89s)\n",
      "TDF #77 of 98 (69.56s)\n",
      "TDF #78 of 98 (79.40s)\n",
      "TDF #79 of 98 (74.82s)\n",
      "TDF #80 of 98 (76.63s)\n",
      "TDF #81 of 98 (80.67s)\n",
      "TDF #82 of 98 (82.40s)\n",
      "TDF #83 of 98 (87.36s)\n",
      "TDF #84 of 98 (88.67s)\n",
      "TDF #85 of 98 (92.97s)\n",
      "TDF #86 of 98 (95.63s)\n",
      "TDF #87 of 98 (108.90s)\n",
      "TDF #88 of 98 (108.94s)\n",
      "TDF #89 of 98 (112.79s)\n",
      "TDF #90 of 98 (118.79s)\n",
      "TDF #91 of 98 (122.58s)\n",
      "TDF #92 of 98 (129.36s)\n",
      "TDF #93 of 98 (138.70s)\n",
      "TDF #94 of 98 (149.59s)\n",
      "TDF #95 of 98 (134.08s)\n",
      "TDF #96 of 98 (152.45s)\n",
      "TDF #97 of 98 (138.99s)\n",
      "TDF #98 of 98 (148.83s)\n",
      "(3800.69s)\n",
      "---PBC---\n",
      "TDF #1 of 98 (0.00s)\n",
      "TDF #2 of 98 (0.00s)\n",
      "TDF #3 of 98 (0.01s)\n",
      "TDF #4 of 98 (0.01s)\n",
      "TDF #5 of 98 (0.01s)\n",
      "TDF #6 of 98 (0.02s)\n",
      "TDF #7 of 98 (0.02s)\n",
      "TDF #8 of 98 (0.04s)\n",
      "TDF #9 of 98 (0.06s)\n",
      "TDF #10 of 98 (0.07s)\n",
      "TDF #11 of 98 (0.14s)\n",
      "TDF #12 of 98 (0.13s)\n",
      "TDF #13 of 98 (0.15s)\n",
      "TDF #14 of 98 (0.17s)\n",
      "TDF #15 of 98 (0.22s)\n",
      "TDF #16 of 98 (0.29s)\n",
      "TDF #17 of 98 (0.33s)\n",
      "TDF #18 of 98 (0.38s)\n",
      "TDF #19 of 98 (0.42s)\n",
      "TDF #20 of 98 (0.47s)\n",
      "TDF #21 of 98 (0.57s)\n",
      "TDF #22 of 98 (0.67s)\n",
      "TDF #23 of 98 (0.82s)\n",
      "TDF #24 of 98 (0.88s)\n",
      "TDF #25 of 98 (1.00s)\n",
      "TDF #26 of 98 (1.22s)\n",
      "TDF #27 of 98 (1.26s)\n",
      "TDF #28 of 98 (1.38s)\n",
      "TDF #29 of 98 (1.64s)\n",
      "TDF #30 of 98 (2.07s)\n",
      "TDF #31 of 98 (1.88s)\n",
      "TDF #32 of 98 (1.94s)\n",
      "TDF #33 of 98 (2.32s)\n",
      "TDF #34 of 98 (2.86s)\n",
      "TDF #35 of 98 (2.37s)\n",
      "TDF #36 of 98 (2.85s)\n",
      "TDF #37 of 98 (6.77s)\n",
      "TDF #38 of 98 (5.31s)\n",
      "TDF #39 of 98 (3.62s)\n",
      "TDF #40 of 98 (5.46s)\n",
      "TDF #41 of 98 (4.41s)\n",
      "TDF #42 of 98 (4.00s)\n",
      "TDF #43 of 98 (5.56s)\n",
      "TDF #44 of 98 (5.81s)\n",
      "TDF #45 of 98 (6.06s)\n",
      "TDF #46 of 98 (5.59s)\n",
      "TDF #47 of 98 (5.64s)\n",
      "TDF #48 of 98 (5.97s)\n",
      "TDF #49 of 98 (7.42s)\n",
      "TDF #50 of 98 (7.37s)\n",
      "TDF #51 of 98 (8.27s)\n",
      "TDF #52 of 98 (8.40s)\n",
      "TDF #53 of 98 (8.94s)\n",
      "TDF #54 of 98 (8.69s)\n",
      "TDF #55 of 98 (8.80s)\n",
      "TDF #56 of 98 (9.33s)\n",
      "TDF #57 of 98 (9.94s)\n",
      "TDF #58 of 98 (11.70s)\n",
      "TDF #59 of 98 (12.96s)\n",
      "TDF #60 of 98 (12.64s)\n",
      "TDF #61 of 98 (12.45s)\n",
      "TDF #62 of 98 "
     ]
    },
    {
     "ename": "KeyboardInterrupt",
     "evalue": "",
     "output_type": "error",
     "traceback": [
      "\u001b[0;31m---------------------------------------------------------------------------\u001b[0m",
      "\u001b[0;31mKeyboardInterrupt\u001b[0m                         Traceback (most recent call last)",
      "\u001b[0;32m<ipython-input-22-8e053a7c44d0>\u001b[0m in \u001b[0;36m<module>\u001b[0;34m\u001b[0m\n\u001b[1;32m      2\u001b[0m \u001b[0mN\u001b[0m\u001b[0;34m,\u001b[0m \u001b[0md_nopbc\u001b[0m \u001b[0;34m=\u001b[0m \u001b[0md_vs_N\u001b[0m\u001b[0;34m(\u001b[0m\u001b[0mgraphs\u001b[0m\u001b[0;34m.\u001b[0m\u001b[0mbuild_path_graph\u001b[0m\u001b[0;34m,\u001b[0m \u001b[0mNmax\u001b[0m\u001b[0;34m=\u001b[0m\u001b[0;36m500\u001b[0m\u001b[0;34m,\u001b[0m \u001b[0mPBC\u001b[0m\u001b[0;34m=\u001b[0m\u001b[0;32mFalse\u001b[0m\u001b[0;34m)\u001b[0m\u001b[0;34m\u001b[0m\u001b[0m\n\u001b[1;32m      3\u001b[0m \u001b[0mprint\u001b[0m\u001b[0;34m(\u001b[0m\u001b[0;34m\"---PBC---\"\u001b[0m\u001b[0;34m)\u001b[0m\u001b[0;34m\u001b[0m\u001b[0m\n\u001b[0;32m----> 4\u001b[0;31m \u001b[0mN\u001b[0m\u001b[0;34m,\u001b[0m \u001b[0md_pbc\u001b[0m \u001b[0;34m=\u001b[0m \u001b[0md_vs_N\u001b[0m\u001b[0;34m(\u001b[0m\u001b[0mgraphs\u001b[0m\u001b[0;34m.\u001b[0m\u001b[0mbuild_path_graph\u001b[0m\u001b[0;34m,\u001b[0m \u001b[0mNmax\u001b[0m\u001b[0;34m=\u001b[0m\u001b[0;36m500\u001b[0m\u001b[0;34m,\u001b[0m \u001b[0mPBC\u001b[0m\u001b[0;34m=\u001b[0m\u001b[0;32mTrue\u001b[0m\u001b[0;34m)\u001b[0m\u001b[0;34m\u001b[0m\u001b[0m\n\u001b[0m\u001b[1;32m      5\u001b[0m \u001b[0;34m\u001b[0m\u001b[0m\n\u001b[1;32m      6\u001b[0m \u001b[0mplt\u001b[0m\u001b[0;34m.\u001b[0m\u001b[0mfigure\u001b[0m\u001b[0;34m(\u001b[0m\u001b[0;34m)\u001b[0m\u001b[0;34m\u001b[0m\u001b[0m\n",
      "\u001b[0;32m<ipython-input-18-19600f5d23c9>\u001b[0m in \u001b[0;36md_vs_N\u001b[0;34m(graph_builder, Nmin, Nmax, Nstep, PBC)\u001b[0m\n\u001b[1;32m      9\u001b[0m \u001b[0;34m\u001b[0m\u001b[0m\n\u001b[1;32m     10\u001b[0m         \u001b[0mGl\u001b[0m \u001b[0;34m=\u001b[0m \u001b[0mgraph_builder\u001b[0m\u001b[0;34m(\u001b[0m\u001b[0mn\u001b[0m\u001b[0;34m,\u001b[0m \u001b[0mPBC\u001b[0m\u001b[0;34m)\u001b[0m\u001b[0;34m\u001b[0m\u001b[0m\n\u001b[0;32m---> 11\u001b[0;31m         \u001b[0mp\u001b[0m\u001b[0;34m,\u001b[0m \u001b[0mlb\u001b[0m\u001b[0;34m,\u001b[0m \u001b[0mNb\u001b[0m  \u001b[0;34m=\u001b[0m \u001b[0mTFD\u001b[0m\u001b[0;34m.\u001b[0m\u001b[0mtfd_fuzzy\u001b[0m\u001b[0;34m(\u001b[0m\u001b[0mGl\u001b[0m\u001b[0;34m)\u001b[0m\u001b[0;34m\u001b[0m\u001b[0m\n\u001b[0m\u001b[1;32m     12\u001b[0m         \u001b[0md\u001b[0m\u001b[0;34m[\u001b[0m\u001b[0midx\u001b[0m\u001b[0;34m]\u001b[0m \u001b[0;34m=\u001b[0m \u001b[0mp\u001b[0m\u001b[0;34m[\u001b[0m\u001b[0;36m0\u001b[0m\u001b[0;34m]\u001b[0m\u001b[0;34m\u001b[0m\u001b[0m\n\u001b[1;32m     13\u001b[0m \u001b[0;34m\u001b[0m\u001b[0m\n",
      "\u001b[0;32m~/Documents/git/TFDofPPIN/tfdppin/TFD.py\u001b[0m in \u001b[0;36mtfd_fuzzy\u001b[0;34m(graph)\u001b[0m\n\u001b[1;32m     33\u001b[0m     \u001b[0mpaths\u001b[0m \u001b[0;34m=\u001b[0m \u001b[0mnx\u001b[0m\u001b[0;34m.\u001b[0m\u001b[0mshortest_path\u001b[0m\u001b[0;34m(\u001b[0m\u001b[0mgraph\u001b[0m\u001b[0;34m)\u001b[0m\u001b[0;34m\u001b[0m\u001b[0m\n\u001b[1;32m     34\u001b[0m \u001b[0;34m\u001b[0m\u001b[0m\n\u001b[0;32m---> 35\u001b[0;31m     \u001b[0mlb\u001b[0m\u001b[0;34m,\u001b[0m \u001b[0mNb\u001b[0m \u001b[0;34m=\u001b[0m \u001b[0mgreedy\u001b[0m\u001b[0;34m.\u001b[0m\u001b[0mnumber_of_boxes_fuzzy\u001b[0m\u001b[0;34m(\u001b[0m\u001b[0mgraph\u001b[0m\u001b[0;34m,\u001b[0m \u001b[0mpaths\u001b[0m\u001b[0;34m)\u001b[0m\u001b[0;34m\u001b[0m\u001b[0m\n\u001b[0m\u001b[1;32m     36\u001b[0m \u001b[0;34m\u001b[0m\u001b[0m\n\u001b[1;32m     37\u001b[0m     \u001b[0;32mreturn\u001b[0m \u001b[0mnp\u001b[0m\u001b[0;34m.\u001b[0m\u001b[0mpolyfit\u001b[0m\u001b[0;34m(\u001b[0m\u001b[0mnp\u001b[0m\u001b[0;34m.\u001b[0m\u001b[0mlog\u001b[0m\u001b[0;34m(\u001b[0m\u001b[0mlb\u001b[0m\u001b[0;34m)\u001b[0m\u001b[0;34m,\u001b[0m \u001b[0mnp\u001b[0m\u001b[0;34m.\u001b[0m\u001b[0mlog\u001b[0m\u001b[0;34m(\u001b[0m\u001b[0mNb\u001b[0m\u001b[0;34m)\u001b[0m\u001b[0;34m,\u001b[0m \u001b[0;36m1\u001b[0m\u001b[0;34m)\u001b[0m\u001b[0;34m,\u001b[0m \u001b[0mlb\u001b[0m\u001b[0;34m,\u001b[0m \u001b[0mnp\u001b[0m\u001b[0;34m.\u001b[0m\u001b[0marray\u001b[0m\u001b[0;34m(\u001b[0m\u001b[0mNb\u001b[0m\u001b[0;34m)\u001b[0m\u001b[0;34m\u001b[0m\u001b[0m\n",
      "\u001b[0;32m~/Documents/git/TFDofPPIN/tfdppin/greedy.py\u001b[0m in \u001b[0;36mnumber_of_boxes_fuzzy\u001b[0;34m(graph, paths)\u001b[0m\n\u001b[1;32m     82\u001b[0m \u001b[0;34m\u001b[0m\u001b[0m\n\u001b[1;32m     83\u001b[0m                 \u001b[0;32mif\u001b[0m \u001b[0md_ij\u001b[0m \u001b[0;34m<=\u001b[0m \u001b[0mlb\u001b[0m\u001b[0;34m:\u001b[0m\u001b[0;34m\u001b[0m\u001b[0m\n\u001b[0;32m---> 84\u001b[0;31m                     \u001b[0mA_ij\u001b[0m \u001b[0;34m=\u001b[0m \u001b[0mnp\u001b[0m\u001b[0;34m.\u001b[0m\u001b[0mexp\u001b[0m\u001b[0;34m(\u001b[0m\u001b[0;34m-\u001b[0m \u001b[0md_ij\u001b[0m\u001b[0;34m**\u001b[0m\u001b[0;36m2\u001b[0m \u001b[0;34m/\u001b[0m \u001b[0mlb\u001b[0m\u001b[0;34m**\u001b[0m\u001b[0;36m2\u001b[0m\u001b[0;34m)\u001b[0m\u001b[0;34m\u001b[0m\u001b[0m\n\u001b[0m\u001b[1;32m     85\u001b[0m                     \u001b[0mnb\u001b[0m \u001b[0;34m+=\u001b[0m \u001b[0mA_ij\u001b[0m\u001b[0;34m\u001b[0m\u001b[0m\n\u001b[1;32m     86\u001b[0m \u001b[0;34m\u001b[0m\u001b[0m\n",
      "\u001b[0;31mKeyboardInterrupt\u001b[0m: "
     ]
    }
   ],
   "source": [
    "print(\"---NO PBC---\")\n",
    "N, d_nopbc = d_vs_N(graphs.build_path_graph, Nmax=100, Nstep=20 PBC=False)\n",
    "print(\"---PBC---\")\n",
    "N, d_pbc = d_vs_N(graphs.build_path_graph, Nmax=500, PBC=True)\n",
    "\n",
    "plt.figure()\n",
    "plt.plot(N, d_nopbc / 1, label=\"NO PBC\")\n",
    "plt.plot(N, d_pbc / 1, label=\"PBC\")\n",
    "plt.hlines(1, N[0], N[-1])\n",
    "plt.legend()\n",
    "plt.title(\"Finite-Size Effects for Path Graphs\")\n",
    "plt.xlabel(\"N\")\n",
    "plt.ylabel(\"d\")\n",
    "plt.savefig(\"fse_path.pdf\")\n",
    "plt.show()"
   ]
  },
  {
   "cell_type": "markdown",
   "metadata": {},
   "source": [
    "#### Lattice Graph"
   ]
  },
  {
   "cell_type": "code",
   "execution_count": 21,
   "metadata": {},
   "outputs": [
    {
     "name": "stdout",
     "output_type": "stream",
     "text": [
      "---NO PBC---\n",
      "TDF #1 of 8 (0.29s)\n",
      "TDF #2 of 8 (2.57s)\n",
      "TDF #3 of 8 "
     ]
    },
    {
     "ename": "KeyboardInterrupt",
     "evalue": "",
     "output_type": "error",
     "traceback": [
      "\u001b[0;31m---------------------------------------------------------------------------\u001b[0m",
      "\u001b[0;31mKeyboardInterrupt\u001b[0m                         Traceback (most recent call last)",
      "\u001b[0;32m<ipython-input-21-c150665217b2>\u001b[0m in \u001b[0;36m<module>\u001b[0;34m\u001b[0m\n\u001b[1;32m      1\u001b[0m \u001b[0mprint\u001b[0m\u001b[0;34m(\u001b[0m\u001b[0;34m\"---NO PBC---\"\u001b[0m\u001b[0;34m)\u001b[0m\u001b[0;34m\u001b[0m\u001b[0m\n\u001b[0;32m----> 2\u001b[0;31m \u001b[0mN\u001b[0m\u001b[0;34m,\u001b[0m \u001b[0md_nopbc\u001b[0m \u001b[0;34m=\u001b[0m \u001b[0md_vs_N\u001b[0m\u001b[0;34m(\u001b[0m\u001b[0mgraphs\u001b[0m\u001b[0;34m.\u001b[0m\u001b[0mbuild_lattice_graph\u001b[0m\u001b[0;34m,\u001b[0m \u001b[0mNmin\u001b[0m\u001b[0;34m=\u001b[0m\u001b[0;36m10\u001b[0m\u001b[0;34m,\u001b[0m \u001b[0mNmax\u001b[0m\u001b[0;34m=\u001b[0m\u001b[0;36m50\u001b[0m\u001b[0;34m,\u001b[0m \u001b[0mPBC\u001b[0m\u001b[0;34m=\u001b[0m\u001b[0;32mFalse\u001b[0m\u001b[0;34m)\u001b[0m\u001b[0;34m\u001b[0m\u001b[0m\n\u001b[0m\u001b[1;32m      3\u001b[0m \u001b[0mprint\u001b[0m\u001b[0;34m(\u001b[0m\u001b[0;34m\"---PBC---\"\u001b[0m\u001b[0;34m)\u001b[0m\u001b[0;34m\u001b[0m\u001b[0m\n\u001b[1;32m      4\u001b[0m \u001b[0mN\u001b[0m\u001b[0;34m,\u001b[0m \u001b[0md_pbc\u001b[0m \u001b[0;34m=\u001b[0m \u001b[0md_vs_N\u001b[0m\u001b[0;34m(\u001b[0m\u001b[0mgraphs\u001b[0m\u001b[0;34m.\u001b[0m\u001b[0mbuild_lattice_graph\u001b[0m\u001b[0;34m,\u001b[0m \u001b[0mNmin\u001b[0m\u001b[0;34m=\u001b[0m\u001b[0;36m10\u001b[0m\u001b[0;34m,\u001b[0m \u001b[0mNmax\u001b[0m\u001b[0;34m=\u001b[0m\u001b[0;36m50\u001b[0m\u001b[0;34m,\u001b[0m \u001b[0mPBC\u001b[0m\u001b[0;34m=\u001b[0m\u001b[0;32mTrue\u001b[0m\u001b[0;34m)\u001b[0m\u001b[0;34m\u001b[0m\u001b[0m\n\u001b[1;32m      5\u001b[0m \u001b[0;34m\u001b[0m\u001b[0m\n",
      "\u001b[0;32m<ipython-input-18-19600f5d23c9>\u001b[0m in \u001b[0;36md_vs_N\u001b[0;34m(graph_builder, Nmin, Nmax, Nstep, PBC)\u001b[0m\n\u001b[1;32m      9\u001b[0m \u001b[0;34m\u001b[0m\u001b[0m\n\u001b[1;32m     10\u001b[0m         \u001b[0mGl\u001b[0m \u001b[0;34m=\u001b[0m \u001b[0mgraph_builder\u001b[0m\u001b[0;34m(\u001b[0m\u001b[0mn\u001b[0m\u001b[0;34m,\u001b[0m \u001b[0mPBC\u001b[0m\u001b[0;34m)\u001b[0m\u001b[0;34m\u001b[0m\u001b[0m\n\u001b[0;32m---> 11\u001b[0;31m         \u001b[0mp\u001b[0m\u001b[0;34m,\u001b[0m \u001b[0mlb\u001b[0m\u001b[0;34m,\u001b[0m \u001b[0mNb\u001b[0m  \u001b[0;34m=\u001b[0m \u001b[0mTFD\u001b[0m\u001b[0;34m.\u001b[0m\u001b[0mtfd_fuzzy\u001b[0m\u001b[0;34m(\u001b[0m\u001b[0mGl\u001b[0m\u001b[0;34m)\u001b[0m\u001b[0;34m\u001b[0m\u001b[0m\n\u001b[0m\u001b[1;32m     12\u001b[0m         \u001b[0md\u001b[0m\u001b[0;34m[\u001b[0m\u001b[0midx\u001b[0m\u001b[0;34m]\u001b[0m \u001b[0;34m=\u001b[0m \u001b[0mp\u001b[0m\u001b[0;34m[\u001b[0m\u001b[0;36m0\u001b[0m\u001b[0;34m]\u001b[0m\u001b[0;34m\u001b[0m\u001b[0m\n\u001b[1;32m     13\u001b[0m \u001b[0;34m\u001b[0m\u001b[0m\n",
      "\u001b[0;32m~/Documents/git/TFDofPPIN/tfdppin/TFD.py\u001b[0m in \u001b[0;36mtfd_fuzzy\u001b[0;34m(graph)\u001b[0m\n\u001b[1;32m     33\u001b[0m     \u001b[0mpaths\u001b[0m \u001b[0;34m=\u001b[0m \u001b[0mnx\u001b[0m\u001b[0;34m.\u001b[0m\u001b[0mshortest_path\u001b[0m\u001b[0;34m(\u001b[0m\u001b[0mgraph\u001b[0m\u001b[0;34m)\u001b[0m\u001b[0;34m\u001b[0m\u001b[0m\n\u001b[1;32m     34\u001b[0m \u001b[0;34m\u001b[0m\u001b[0m\n\u001b[0;32m---> 35\u001b[0;31m     \u001b[0mlb\u001b[0m\u001b[0;34m,\u001b[0m \u001b[0mNb\u001b[0m \u001b[0;34m=\u001b[0m \u001b[0mgreedy\u001b[0m\u001b[0;34m.\u001b[0m\u001b[0mnumber_of_boxes_fuzzy\u001b[0m\u001b[0;34m(\u001b[0m\u001b[0mgraph\u001b[0m\u001b[0;34m,\u001b[0m \u001b[0mpaths\u001b[0m\u001b[0;34m)\u001b[0m\u001b[0;34m\u001b[0m\u001b[0m\n\u001b[0m\u001b[1;32m     36\u001b[0m \u001b[0;34m\u001b[0m\u001b[0m\n\u001b[1;32m     37\u001b[0m     \u001b[0;32mreturn\u001b[0m \u001b[0mnp\u001b[0m\u001b[0;34m.\u001b[0m\u001b[0mpolyfit\u001b[0m\u001b[0;34m(\u001b[0m\u001b[0mnp\u001b[0m\u001b[0;34m.\u001b[0m\u001b[0mlog\u001b[0m\u001b[0;34m(\u001b[0m\u001b[0mlb\u001b[0m\u001b[0;34m)\u001b[0m\u001b[0;34m,\u001b[0m \u001b[0mnp\u001b[0m\u001b[0;34m.\u001b[0m\u001b[0mlog\u001b[0m\u001b[0;34m(\u001b[0m\u001b[0mNb\u001b[0m\u001b[0;34m)\u001b[0m\u001b[0;34m,\u001b[0m \u001b[0;36m1\u001b[0m\u001b[0;34m)\u001b[0m\u001b[0;34m,\u001b[0m \u001b[0mlb\u001b[0m\u001b[0;34m,\u001b[0m \u001b[0mnp\u001b[0m\u001b[0;34m.\u001b[0m\u001b[0marray\u001b[0m\u001b[0;34m(\u001b[0m\u001b[0mNb\u001b[0m\u001b[0;34m)\u001b[0m\u001b[0;34m\u001b[0m\u001b[0m\n",
      "\u001b[0;32m~/Documents/git/TFDofPPIN/tfdppin/greedy.py\u001b[0m in \u001b[0;36mnumber_of_boxes_fuzzy\u001b[0;34m(graph, paths)\u001b[0m\n\u001b[1;32m     82\u001b[0m \u001b[0;34m\u001b[0m\u001b[0m\n\u001b[1;32m     83\u001b[0m                 \u001b[0;32mif\u001b[0m \u001b[0md_ij\u001b[0m \u001b[0;34m<=\u001b[0m \u001b[0mlb\u001b[0m\u001b[0;34m:\u001b[0m\u001b[0;34m\u001b[0m\u001b[0m\n\u001b[0;32m---> 84\u001b[0;31m                     \u001b[0mA_ij\u001b[0m \u001b[0;34m=\u001b[0m \u001b[0mnp\u001b[0m\u001b[0;34m.\u001b[0m\u001b[0mexp\u001b[0m\u001b[0;34m(\u001b[0m\u001b[0;34m-\u001b[0m \u001b[0md_ij\u001b[0m\u001b[0;34m**\u001b[0m\u001b[0;36m2\u001b[0m \u001b[0;34m/\u001b[0m \u001b[0mlb\u001b[0m\u001b[0;34m**\u001b[0m\u001b[0;36m2\u001b[0m\u001b[0;34m)\u001b[0m\u001b[0;34m\u001b[0m\u001b[0m\n\u001b[0m\u001b[1;32m     85\u001b[0m                     \u001b[0mnb\u001b[0m \u001b[0;34m+=\u001b[0m \u001b[0mA_ij\u001b[0m\u001b[0;34m\u001b[0m\u001b[0m\n\u001b[1;32m     86\u001b[0m \u001b[0;34m\u001b[0m\u001b[0m\n",
      "\u001b[0;31mKeyboardInterrupt\u001b[0m: "
     ]
    }
   ],
   "source": [
    "print(\"---NO PBC---\")\n",
    "N, d_nopbc = d_vs_N(graphs.build_lattice_graph, Nmin=10, Nmax=50, PBC=False)\n",
    "print(\"---PBC---\")\n",
    "N, d_pbc = d_vs_N(graphs.build_lattice_graph, Nmin=10, Nmax=50, PBC=True)\n",
    "\n",
    "plt.figure()\n",
    "plt.plot(N, d_nopbc / 2, label=\"NO PBC\")\n",
    "plt.plot(N, d_pbc / 2, label=\"PBC\")\n",
    "plt.legend()\n",
    "plt.title(\"Finite-Size Effects for Path Graphs\")\n",
    "plt.xlabel(\"N\")\n",
    "plt.ylabel(\"d\")\n",
    "plt.savefig(\"fse_lattice.pdf\")\n",
    "plt.show()"
   ]
  },
  {
   "cell_type": "code",
   "execution_count": null,
   "metadata": {},
   "outputs": [],
   "source": []
  }
 ],
 "metadata": {
  "kernelspec": {
   "display_name": "Python 3",
   "language": "python",
   "name": "python3"
  },
  "language_info": {
   "codemirror_mode": {
    "name": "ipython",
    "version": 3
   },
   "file_extension": ".py",
   "mimetype": "text/x-python",
   "name": "python",
   "nbconvert_exporter": "python",
   "pygments_lexer": "ipython3",
   "version": "3.6.6"
  }
 },
 "nbformat": 4,
 "nbformat_minor": 2
}
